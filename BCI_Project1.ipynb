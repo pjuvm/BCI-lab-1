{
  "nbformat": 4,
  "nbformat_minor": 0,
  "metadata": {
    "colab": {
      "provenance": [],
      "toc_visible": true,
      "mount_file_id": "12iF3DatkDdcZHIPjY6ExhYKHGAeeXHF-",
      "authorship_tag": "ABX9TyNHhRuXBN1acp2BQxWCRa8r",
      "include_colab_link": true
    },
    "kernelspec": {
      "name": "python3",
      "display_name": "Python 3"
    },
    "language_info": {
      "name": "python"
    }
  },
  "cells": [
    {
      "cell_type": "markdown",
      "metadata": {
        "id": "view-in-github",
        "colab_type": "text"
      },
      "source": [
        "<a href=\"https://colab.research.google.com/github/pjuvm/BCI-lab-1/blob/project1/BCI_Project1.ipynb\" target=\"_parent\"><img src=\"https://colab.research.google.com/assets/colab-badge.svg\" alt=\"Open In Colab\"/></a>"
      ]
    },
    {
      "cell_type": "code",
      "source": [
        "import os\n",
        "from pylab import *\n",
        "from collections import Counter\n",
        "import matplotlib.pyplot as plt\n",
        "!pip install mne\n",
        "import mne\n",
        "from mne.stats import *"
      ],
      "metadata": {
        "id": "lYr45x9MFD-x",
        "colab": {
          "base_uri": "https://localhost:8080/"
        },
        "outputId": "a942becf-63a4-4f24-a04e-cccbc950167a"
      },
      "execution_count": 1,
      "outputs": [
        {
          "output_type": "stream",
          "name": "stdout",
          "text": [
            "Collecting mne\n",
            "  Downloading mne-1.6.1-py3-none-any.whl (8.3 MB)\n",
            "\u001b[2K     \u001b[90m━━━━━━━━━━━━━━━━━━━━━━━━━━━━━━━━━━━━━━━━\u001b[0m \u001b[32m8.3/8.3 MB\u001b[0m \u001b[31m19.0 MB/s\u001b[0m eta \u001b[36m0:00:00\u001b[0m\n",
            "\u001b[?25hRequirement already satisfied: numpy>=1.21.2 in /usr/local/lib/python3.10/dist-packages (from mne) (1.25.2)\n",
            "Requirement already satisfied: scipy>=1.7.1 in /usr/local/lib/python3.10/dist-packages (from mne) (1.11.4)\n",
            "Requirement already satisfied: matplotlib>=3.5.0 in /usr/local/lib/python3.10/dist-packages (from mne) (3.7.1)\n",
            "Requirement already satisfied: tqdm in /usr/local/lib/python3.10/dist-packages (from mne) (4.66.2)\n",
            "Requirement already satisfied: pooch>=1.5 in /usr/local/lib/python3.10/dist-packages (from mne) (1.8.0)\n",
            "Requirement already satisfied: decorator in /usr/local/lib/python3.10/dist-packages (from mne) (4.4.2)\n",
            "Requirement already satisfied: packaging in /usr/local/lib/python3.10/dist-packages (from mne) (23.2)\n",
            "Requirement already satisfied: jinja2 in /usr/local/lib/python3.10/dist-packages (from mne) (3.1.3)\n",
            "Requirement already satisfied: lazy-loader>=0.3 in /usr/local/lib/python3.10/dist-packages (from mne) (0.3)\n",
            "Requirement already satisfied: contourpy>=1.0.1 in /usr/local/lib/python3.10/dist-packages (from matplotlib>=3.5.0->mne) (1.2.0)\n",
            "Requirement already satisfied: cycler>=0.10 in /usr/local/lib/python3.10/dist-packages (from matplotlib>=3.5.0->mne) (0.12.1)\n",
            "Requirement already satisfied: fonttools>=4.22.0 in /usr/local/lib/python3.10/dist-packages (from matplotlib>=3.5.0->mne) (4.48.1)\n",
            "Requirement already satisfied: kiwisolver>=1.0.1 in /usr/local/lib/python3.10/dist-packages (from matplotlib>=3.5.0->mne) (1.4.5)\n",
            "Requirement already satisfied: pillow>=6.2.0 in /usr/local/lib/python3.10/dist-packages (from matplotlib>=3.5.0->mne) (9.4.0)\n",
            "Requirement already satisfied: pyparsing>=2.3.1 in /usr/local/lib/python3.10/dist-packages (from matplotlib>=3.5.0->mne) (3.1.1)\n",
            "Requirement already satisfied: python-dateutil>=2.7 in /usr/local/lib/python3.10/dist-packages (from matplotlib>=3.5.0->mne) (2.8.2)\n",
            "Requirement already satisfied: platformdirs>=2.5.0 in /usr/local/lib/python3.10/dist-packages (from pooch>=1.5->mne) (4.2.0)\n",
            "Requirement already satisfied: requests>=2.19.0 in /usr/local/lib/python3.10/dist-packages (from pooch>=1.5->mne) (2.31.0)\n",
            "Requirement already satisfied: MarkupSafe>=2.0 in /usr/local/lib/python3.10/dist-packages (from jinja2->mne) (2.1.5)\n",
            "Requirement already satisfied: six>=1.5 in /usr/local/lib/python3.10/dist-packages (from python-dateutil>=2.7->matplotlib>=3.5.0->mne) (1.16.0)\n",
            "Requirement already satisfied: charset-normalizer<4,>=2 in /usr/local/lib/python3.10/dist-packages (from requests>=2.19.0->pooch>=1.5->mne) (3.3.2)\n",
            "Requirement already satisfied: idna<4,>=2.5 in /usr/local/lib/python3.10/dist-packages (from requests>=2.19.0->pooch>=1.5->mne) (3.6)\n",
            "Requirement already satisfied: urllib3<3,>=1.21.1 in /usr/local/lib/python3.10/dist-packages (from requests>=2.19.0->pooch>=1.5->mne) (2.0.7)\n",
            "Requirement already satisfied: certifi>=2017.4.17 in /usr/local/lib/python3.10/dist-packages (from requests>=2.19.0->pooch>=1.5->mne) (2024.2.2)\n",
            "Installing collected packages: mne\n",
            "Successfully installed mne-1.6.1\n"
          ]
        }
      ]
    },
    {
      "cell_type": "code",
      "source": [
        "os.listdir()"
      ],
      "metadata": {
        "colab": {
          "base_uri": "https://localhost:8080/"
        },
        "id": "ZXiganoChzp8",
        "outputId": "c9f2afe8-6b4a-4e3f-f5ad-cc6bc424ff90"
      },
      "execution_count": 2,
      "outputs": [
        {
          "output_type": "execute_result",
          "data": {
            "text/plain": [
              "['.config', 'drive', 'sample_data']"
            ]
          },
          "metadata": {},
          "execution_count": 2
        }
      ]
    },
    {
      "cell_type": "code",
      "source": [
        "!git clone --branch project1 https://github.com/pjuvm/BCI-lab-1.git"
      ],
      "metadata": {
        "colab": {
          "base_uri": "https://localhost:8080/"
        },
        "id": "BpufxwdfP5bQ",
        "outputId": "8193931e-38d8-40c1-bfb5-687fb4142977"
      },
      "execution_count": 3,
      "outputs": [
        {
          "output_type": "stream",
          "name": "stdout",
          "text": [
            "Cloning into 'BCI-lab-1'...\n",
            "remote: Enumerating objects: 95, done.\u001b[K\n",
            "remote: Counting objects: 100% (65/65), done.\u001b[K\n",
            "remote: Compressing objects: 100% (54/54), done.\u001b[K\n",
            "remote: Total 95 (delta 29), reused 26 (delta 6), pack-reused 30\u001b[K\n",
            "Receiving objects: 100% (95/95), 107.91 MiB | 13.10 MiB/s, done.\n",
            "Resolving deltas: 100% (30/30), done.\n",
            "Updating files: 100% (30/30), done.\n"
          ]
        }
      ]
    },
    {
      "cell_type": "code",
      "source": [
        "os.chdir(\"BCI-lab-1\")"
      ],
      "metadata": {
        "id": "UU5c6dULzTQ-"
      },
      "execution_count": 4,
      "outputs": []
    },
    {
      "cell_type": "code",
      "source": [
        "import loadmat\n",
        "import load_p300_data\n",
        "import plot_p300_erps"
      ],
      "metadata": {
        "id": "x6xiZTcuBmFh"
      },
      "execution_count": 31,
      "outputs": []
    },
    {
      "cell_type": "markdown",
      "source": [
        "#Parts C,D, and E"
      ],
      "metadata": {
        "id": "BmBFj2f9Rdgj"
      }
    },
    {
      "cell_type": "code",
      "source": [
        "def subject_epoch_groups(subject):\n",
        "  \"\"\" This function takes the .mat file from each subject in the P300 speller experiment\n",
        "  and epochs the data, separating the epochs into two groups: target and nontarget.\n",
        "  Each array is of shape of (n_samples, samples_per_epoch, n_channels)\n",
        "  \"\"\"\n",
        "\n",
        "  eeg_time, eeg_data, rowcol_id, is_target = load_p300_data.load_training_eeg(subject = subject)\n",
        "  event_sample, is_target_event = plot_p300_erps.get_events(rowcol_id, is_target)\n",
        "  eeg_epochs, erp_times = plot_p300_erps.epoch_data(eeg_time, eeg_data, event_sample, epoch_start_time = -0.5, epoch_end_time = 1)\n",
        "  target_epochs = eeg_epochs[is_target_event]\n",
        "  nontarget_epochs = eeg_epochs[~is_target_event]\n",
        "  return target_epochs.astype(float), nontarget_epochs.astype(float)\n",
        "\n",
        "def erp_difference(EEG1,EEG2):\n",
        "  \"\"\" this functions finds the absolute value of the difference between the ERPs of two EEG groups\n",
        "  Args:\n",
        "    EEG1: 3d array of (trials, time points, channels)\n",
        "    EEG2: same as EEG1 above.\n",
        "  Returns:\n",
        "    Absolute value of difference between ERP (mean EEG) of two groups\n",
        "  \"\"\"\n",
        "  target_ERP = EEG1[:,:,:].mean(0)\n",
        "  nontarget_ERP = EEG2[:,:,:].mean(0)\n",
        "  return np.abs(target_ERP - nontarget_ERP)"
      ],
      "metadata": {
        "id": "mge9ajHOKd97"
      },
      "execution_count": 32,
      "outputs": []
    },
    {
      "cell_type": "code",
      "source": [
        "def p_value_gen(EEG1, EEG2, n_iter = 500, channel = 0, alpha = 0.05, random_seed=888):\n",
        "  \"\"\" Function that generates a array of p-values of size (time points, channels)\n",
        "  relating real data to bootstrapped data; viz probabilities of real data given the bootstrapped sample data\n",
        "  Args:\n",
        "    EEG1 -- array of shape (samples, time, channels)\n",
        "    EEG2 -- as above\n",
        "    n_iter -- number of bootstrap iterations\n",
        "    channel -- int. The EEG channel to generate p-values for\n",
        "  Returns:\n",
        "    p-values: array of length samples_per_epoch, containing bootstrapped p-values for each sample in the epoch. These are not corrected for multiple trials.\n",
        "    significance list: an array (variable) that indexes where significant p-values (according to alpha significance level above) occur during the epoch.\n",
        "  \"\"\"\n",
        "  np.random.seed(random_seed)\n",
        "  combined_epochs = np.vstack([EEG1,EEG2])\n",
        "  real_erp_diff = erp_difference(EEG1,EEG2)  #the real ERP difference between two groups or conditions\n",
        "  score = np.zeros(EEG1.shape[1],)                      #zero matrix to count significance\n",
        "  for bootstrap_iter in range(n_iter):\n",
        "    inds = np.random.randint(0,len(combined_epochs),len(combined_epochs))\n",
        "    bootstrapped_epochs = combined_epochs[inds]\n",
        "    bootstrap_target = bootstrapped_epochs[:EEG1.shape[0]] #use same number of trials eg 150 as data\n",
        "    bootstrap_nontarget = bootstrapped_epochs[EEG2.shape[0]:] #use same number of trials eg 750 as data\n",
        "    #bootstrapped nontarget ERP, mean of the 750 samples\n",
        "    bootstrap_erp_diff_array = erp_difference(bootstrap_target,bootstrap_nontarget) #absolute difference of the two as statistic\n",
        "    #print(bootstrap_erp_diff_array.shape)\n",
        "\n",
        "    x = (bootstrap_erp_diff_array[:,channel] > real_erp_diff[:,channel]).astype(int) #whenever a bootstrap value is larger than the real data add 1\n",
        "    score += x\n",
        "\n",
        "  return score/n_iter, np.where(score/n_iter < alpha) #calculate percentage of bootstrap samples bigger than the real data"
      ],
      "metadata": {
        "id": "Tsc8WoSQobHK"
      },
      "execution_count": 33,
      "outputs": []
    },
    {
      "cell_type": "code",
      "source": [
        "def find_significant_times(channel, subjects, alpha = 0.05, samples_per_epoch=384, n_iter=500, random_seed=888):\n",
        "  np.random.seed(random_seed)\n",
        "  score = np.zeros(samples_per_epoch,)\n",
        "  for subj in subjects:\n",
        "    EEGa,EEGb = subject_epoch_groups(subj)  #split data into two conditions or groups of EEG\n",
        "    my_raw_pvals = p_value_gen(EEG1 = EEGa, EEG2 = EEGb, n_iter = 500, channel = channel, alpha = 0.05)   #get the uncorrected p-values\n",
        "    mask = fdr_correction(my_raw_pvals[0], alpha = alpha)[0]   #false discovery rate correction for the p-values\n",
        "    mask = mask.astype(int)     #takes boolean mask converts to binary matrix of 1s and 0s\n",
        "    score += mask               #adds the above matrix to the score matrix, to tally significant time points across subjects\n",
        "  my_mask = np.where(score != 0)\n",
        "  #erp_times = np.linspace(-0.5,1.0,384)\n",
        "\n",
        "  return score"
      ],
      "metadata": {
        "id": "zbtR52KaCvgR"
      },
      "execution_count": 8,
      "outputs": []
    },
    {
      "cell_type": "code",
      "source": [
        "M6 = find_significant_times(channel = 6, subjects = [3,4,5,6,7,8,9,10], n_iter = 3000)"
      ],
      "metadata": {
        "id": "GQXURlnIseDk"
      },
      "execution_count": 10,
      "outputs": []
    },
    {
      "cell_type": "code",
      "source": [
        "M0 = find_significant_times(channel = 0, subjects = [3,4,5,6,7,8,9,10], n_iter = 3000)"
      ],
      "metadata": {
        "id": "QLCtr2vHV5Cl"
      },
      "execution_count": 11,
      "outputs": []
    },
    {
      "cell_type": "code",
      "source": [
        "M1 = find_significant_times(channel = 1, subjects = [3,4,5,6,7,8,9,10], n_iter = 3000)"
      ],
      "metadata": {
        "id": "oAow618YEi-F"
      },
      "execution_count": 12,
      "outputs": []
    },
    {
      "cell_type": "code",
      "source": [
        "M2 = find_significant_times(channel = 2, subjects = [3,4,5,6,7,8,9,10], n_iter = 3000)"
      ],
      "metadata": {
        "id": "yNzbzuCtHbPN"
      },
      "execution_count": 34,
      "outputs": []
    },
    {
      "cell_type": "code",
      "source": [
        "plt.plot(np.linspace(-0.5,1,384), M0)"
      ],
      "metadata": {
        "colab": {
          "base_uri": "https://localhost:8080/",
          "height": 448
        },
        "id": "5a_wvFCZNWya",
        "outputId": "720c082e-cc3b-44cf-f552-1adc8782e33b"
      },
      "execution_count": 13,
      "outputs": [
        {
          "output_type": "execute_result",
          "data": {
            "text/plain": [
              "[<matplotlib.lines.Line2D at 0x7d4bf5030550>]"
            ]
          },
          "metadata": {},
          "execution_count": 13
        },
        {
          "output_type": "display_data",
          "data": {
            "text/plain": [
              "<Figure size 640x480 with 1 Axes>"
            ],
            "image/png": "[encoded data removed]"
          },
          "metadata": {}
        }
      ]
    },
    {
      "cell_type": "code",
      "source": [
        "plt.plot(np.linspace(-0.5,1,384), M1)"
      ],
      "metadata": {
        "colab": {
          "base_uri": "https://localhost:8080/",
          "height": 448
        },
        "id": "ghPzNY6MEyFS",
        "outputId": "f876ce18-ce88-4dc7-ac1d-646077cb4d02"
      },
      "execution_count": 14,
      "outputs": [
        {
          "output_type": "execute_result",
          "data": {
            "text/plain": [
              "[<matplotlib.lines.Line2D at 0x7d4bf4ff4f10>]"
            ]
          },
          "metadata": {},
          "execution_count": 14
        },
        {
          "output_type": "display_data",
          "data": {
            "text/plain": [
              "<Figure size 640x480 with 1 Axes>"
            ],
            "image/png": "[encoded data removed]"
          },
          "metadata": {}
        }
      ]
    },
    {
      "cell_type": "markdown",
      "source": [
        "#Part F"
      ],
      "metadata": {
        "id": "XK16q5GIRUGS"
      }
    },
    {
      "cell_type": "code",
      "source": [
        "def erp_group_median(subjects):\n",
        "  \"\"\"\n",
        "  function that takes EEG data from various subjects, finds the median per subject, and then finds the median of the medians.\n",
        "  Args:\n",
        "    subjects: list of subjects by number\n",
        "  Returns\n",
        "    group_median_erp: array of length samples_per_epoch\n",
        "  \"\"\"\n",
        "\n",
        "  subject_median_ERPs = []\n",
        "  for subj in subjects:\n",
        "    eeg_time, eeg_data, rowcol_id, is_target = load_training_eeg(subject = subj)\n",
        "\n",
        "    event_sample, is_target_event = get_events(rowcol_id, is_target)\n",
        "    eeg_epochs, erp_times = epoch_data(eeg_time, eeg_data, event_sample, epoch_start_time = -0.5, epoch_end_time = 1)\n",
        "\n",
        "    #find the median of the subject at hand\n",
        "    subj_median = np.median(eeg_epochs, 0)\n",
        "    #append subject's median to a list of such medians\n",
        "    subject_median_ERPs.append(subj_median)\n",
        "    #take list and created 3d array of shape (n_subjects, samples_per_epoch, channels)\n",
        "    stacked_median_erps = np.stack(subject_median_ERPs)\n",
        "    #find the median of those medians\n",
        "    group_median_erp = np.median(stacked_median_erps, axis = 0)\n",
        "    return group_median_erp"
      ],
      "metadata": {
        "id": "Pqlt1WwvRlqL"
      },
      "execution_count": 15,
      "outputs": []
    },
    {
      "cell_type": "code",
      "source": [
        "#N2 -- 175-250ms after onset of stimulus\n",
        "#P3b -- 300ms after onset of stimulus\n",
        "\"\"\"\n",
        "To address this possibility, the present study explores the value of incorporating information from electrode locations\n",
        "that are not traditionally associated with the P300 response.\n",
        "In addition, several data preprocessing and model parameters are evaluated to assess\n",
        "the relative effects with respect to the new spatial information.\n",
        "Using a SWLDA classifier, both offline and online results obtained from 64-channel data\n",
        "show that some of the most discriminable EEG features evoked by the P300 speller occur\n",
        "at posterior electrodes (namely PO7, PO8, Oz), and that these\n",
        "features can significantly improve classification performance\n",
        "when used in conjunction with the classical P300 feature space\n",
        "(i.e., EEG features at electrodes Fz, Cz, Pz [20]).\n",
        "\n",
        "\"\"\"\n",
        "\n",
        "channel_names = [\"Fz\", \"Cz\",\"Pz\",\"Oz\",\"P3\",\"P4\",\"PO7\",\"PO8\"]"
      ],
      "metadata": {
        "id": "kDAEdvI2Xqi6"
      },
      "execution_count": 16,
      "outputs": []
    },
    {
      "cell_type": "code",
      "source": [
        "gmedianERP = erp_group_median(subjects = [3,4,5,6,7,8,9,10])\n",
        "gmedianERP"
      ],
      "metadata": {
        "colab": {
          "base_uri": "https://localhost:8080/"
        },
        "id": "tN9dT3UD9hXt",
        "outputId": "6bc33fca-fd01-4cf2-b4f2-32c2df0eaaa0"
      },
      "execution_count": 17,
      "outputs": [
        {
          "output_type": "execute_result",
          "data": {
            "text/plain": [
              "array([[0.24778848830047195, 0.45698914886119013, 0.4660864230432509,\n",
              "        ..., -0.00280193035476492, -0.2634439589704982,\n",
              "        -0.2292430555287055],\n",
              "       [0.3831981281707293, 0.4181641575834796, 0.4697096423180227, ...,\n",
              "        0.12511194543427617, -0.19681935632599235, -0.3222128297319564],\n",
              "       [0.4883526114588488, 0.5169296208992975, 0.5141295196106128, ...,\n",
              "        0.23605584208530672, -0.16793230999324749, -0.03301539751497096],\n",
              "       ...,\n",
              "       [-0.009178237602135209, 0.2551983561946045, 0.1562660679622283,\n",
              "        ..., -0.09398996852869423, -0.1759229302418106,\n",
              "        -0.5790244458606608],\n",
              "       [0.031929435669546535, 0.4667381376918627, 0.29922231932901155,\n",
              "        ..., -0.012002606620441725, -0.15091017126241724,\n",
              "        -0.48403549815199653],\n",
              "       [0.18947714404082916, 0.6185623298012572, 0.5162685037520731, ...,\n",
              "        0.010304406149515444, -0.1517652183991629, -0.346160840852221]],\n",
              "      dtype=object)"
            ]
          },
          "metadata": {},
          "execution_count": 17
        }
      ]
    },
    {
      "cell_type": "code",
      "source": [
        "#If we use static times, e.g. time = 200 and time = 300\n",
        "N2_voltage = gmedianERP[200,:]\n",
        "P3b_voltage = gmedianERP[300,:]\n",
        "N2_voltage.shape"
      ],
      "metadata": {
        "colab": {
          "base_uri": "https://localhost:8080/"
        },
        "id": "8-EzIow_X9e8",
        "outputId": "bc91d326-4ebd-4ba0-cb92-01d0a40d148f"
      },
      "execution_count": 18,
      "outputs": [
        {
          "output_type": "execute_result",
          "data": {
            "text/plain": [
              "(8,)"
            ]
          },
          "metadata": {},
          "execution_count": 18
        }
      ]
    },
    {
      "cell_type": "code",
      "source": [
        "np.random.choice(channel_names, size = len(channel_names), replace = False)"
      ],
      "metadata": {
        "colab": {
          "base_uri": "https://localhost:8080/"
        },
        "id": "9cAqs7m_-DnA",
        "outputId": "0808f284-061e-4937-8621-55ddc3f1f9f1"
      },
      "execution_count": 19,
      "outputs": [
        {
          "output_type": "execute_result",
          "data": {
            "text/plain": [
              "array(['Cz', 'PO7', 'Pz', 'Fz', 'Oz', 'P3', 'P4', 'PO8'], dtype='<U3')"
            ]
          },
          "metadata": {},
          "execution_count": 19
        }
      ]
    },
    {
      "cell_type": "code",
      "source": [
        "import plot_topo\n",
        "\n",
        "channel_names = [\"Fz\", \"Cz\",\"Pz\",\"Oz\",\"P3\",\"P4\",\"PO7\",\"PO8\"]\n",
        "shuffled_names = list(np.random.choice(channel_names, size = len(channel_names), replace = False))\n",
        "plot_topo.plot_topo(channel_names = shuffled_names, channel_data = P3b_voltage, title = str(shuffled_names))"
      ],
      "metadata": {
        "colab": {
          "base_uri": "https://localhost:8080/",
          "height": 1000
        },
        "id": "SMGEzSpvbbKr",
        "outputId": "0fe6f9ef-6f12-4f39-e2a4-574d4a8f69f0"
      },
      "execution_count": 28,
      "outputs": [
        {
          "output_type": "display_data",
          "data": {
            "text/plain": [
              "<Figure size 640x480 with 1 Axes>"
            ],
            "image/png": "[encoded data removed]"
          },
          "metadata": {}
        },
        {
          "output_type": "display_data",
          "data": {
            "text/plain": [
              "<Figure size 100x100 with 1 Axes>"
            ],
            "image/png": "[encoded data removed]"
          },
          "metadata": {}
        },
        {
          "output_type": "execute_result",
          "data": {
            "text/plain": [
              "(<matplotlib.image.AxesImage at 0x7d4bf2920f70>,\n",
              " <matplotlib.colorbar.Colorbar at 0x7d4bf42cc610>)"
            ]
          },
          "metadata": {},
          "execution_count": 28
        },
        {
          "output_type": "display_data",
          "data": {
            "text/plain": [
              "<Figure size 640x480 with 1 Axes>"
            ],
            "image/png": "[encoded data removed]"
          },
          "metadata": {}
        }
      ]
    }
  ]
}