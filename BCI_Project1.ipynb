{
  "nbformat": 4,
  "nbformat_minor": 0,
  "metadata": {
    "colab": {
      "provenance": [],
      "mount_file_id": "12iF3DatkDdcZHIPjY6ExhYKHGAeeXHF-",
      "authorship_tag": "ABX9TyNeo3H9u9fH7BgAMqoASPoq",
      "include_colab_link": true
    },
    "kernelspec": {
      "name": "python3",
      "display_name": "Python 3"
    },
    "language_info": {
      "name": "python"
    }
  },
  "cells": [
    {
      "cell_type": "markdown",
      "metadata": {
        "id": "view-in-github",
        "colab_type": "text"
      },
      "source": [
        "<a href=\"https://colab.research.google.com/github/pjuvm/BCI-lab-1/blob/project1/BCI_Project1.ipynb\" target=\"_parent\"><img src=\"https://colab.research.google.com/assets/colab-badge.svg\" alt=\"Open In Colab\"/></a>"
      ]
    },
    {
      "cell_type": "code",
      "source": [
        "import os\n",
        "from pylab import *\n",
        "from collections import Counter\n",
        "import matplotlib.pyplot as plt\n",
        "!pip install mne\n",
        "import mne\n",
        "from mne.stats import *"
      ],
      "metadata": {
        "id": "lYr45x9MFD-x",
        "colab": {
          "base_uri": "https://localhost:8080/"
        },
        "outputId": "3e6c0400-19a3-4b3d-dcdd-52d2eff8f1ed"
      },
      "execution_count": 3,
      "outputs": [
        {
          "output_type": "stream",
          "name": "stdout",
          "text": [
            "Collecting mne\n",
            "  Downloading mne-1.6.1-py3-none-any.whl (8.3 MB)\n",
            "\u001b[2K     \u001b[90m━━━━━━━━━━━━━━━━━━━━━━━━━━━━━━━━━━━━━━━━\u001b[0m \u001b[32m8.3/8.3 MB\u001b[0m \u001b[31m16.5 MB/s\u001b[0m eta \u001b[36m0:00:00\u001b[0m\n",
            "\u001b[?25hRequirement already satisfied: numpy>=1.21.2 in /usr/local/lib/python3.10/dist-packages (from mne) (1.25.2)\n",
            "Requirement already satisfied: scipy>=1.7.1 in /usr/local/lib/python3.10/dist-packages (from mne) (1.11.4)\n",
            "Requirement already satisfied: matplotlib>=3.5.0 in /usr/local/lib/python3.10/dist-packages (from mne) (3.7.1)\n",
            "Requirement already satisfied: tqdm in /usr/local/lib/python3.10/dist-packages (from mne) (4.66.1)\n",
            "Requirement already satisfied: pooch>=1.5 in /usr/local/lib/python3.10/dist-packages (from mne) (1.8.0)\n",
            "Requirement already satisfied: decorator in /usr/local/lib/python3.10/dist-packages (from mne) (4.4.2)\n",
            "Requirement already satisfied: packaging in /usr/local/lib/python3.10/dist-packages (from mne) (23.2)\n",
            "Requirement already satisfied: jinja2 in /usr/local/lib/python3.10/dist-packages (from mne) (3.1.3)\n",
            "Requirement already satisfied: lazy-loader>=0.3 in /usr/local/lib/python3.10/dist-packages (from mne) (0.3)\n",
            "Requirement already satisfied: contourpy>=1.0.1 in /usr/local/lib/python3.10/dist-packages (from matplotlib>=3.5.0->mne) (1.2.0)\n",
            "Requirement already satisfied: cycler>=0.10 in /usr/local/lib/python3.10/dist-packages (from matplotlib>=3.5.0->mne) (0.12.1)\n",
            "Requirement already satisfied: fonttools>=4.22.0 in /usr/local/lib/python3.10/dist-packages (from matplotlib>=3.5.0->mne) (4.48.1)\n",
            "Requirement already satisfied: kiwisolver>=1.0.1 in /usr/local/lib/python3.10/dist-packages (from matplotlib>=3.5.0->mne) (1.4.5)\n",
            "Requirement already satisfied: pillow>=6.2.0 in /usr/local/lib/python3.10/dist-packages (from matplotlib>=3.5.0->mne) (9.4.0)\n",
            "Requirement already satisfied: pyparsing>=2.3.1 in /usr/local/lib/python3.10/dist-packages (from matplotlib>=3.5.0->mne) (3.1.1)\n",
            "Requirement already satisfied: python-dateutil>=2.7 in /usr/local/lib/python3.10/dist-packages (from matplotlib>=3.5.0->mne) (2.8.2)\n",
            "Requirement already satisfied: platformdirs>=2.5.0 in /usr/local/lib/python3.10/dist-packages (from pooch>=1.5->mne) (4.2.0)\n",
            "Requirement already satisfied: requests>=2.19.0 in /usr/local/lib/python3.10/dist-packages (from pooch>=1.5->mne) (2.31.0)\n",
            "Requirement already satisfied: MarkupSafe>=2.0 in /usr/local/lib/python3.10/dist-packages (from jinja2->mne) (2.1.5)\n",
            "Requirement already satisfied: six>=1.5 in /usr/local/lib/python3.10/dist-packages (from python-dateutil>=2.7->matplotlib>=3.5.0->mne) (1.16.0)\n",
            "Requirement already satisfied: charset-normalizer<4,>=2 in /usr/local/lib/python3.10/dist-packages (from requests>=2.19.0->pooch>=1.5->mne) (3.3.2)\n",
            "Requirement already satisfied: idna<4,>=2.5 in /usr/local/lib/python3.10/dist-packages (from requests>=2.19.0->pooch>=1.5->mne) (3.6)\n",
            "Requirement already satisfied: urllib3<3,>=1.21.1 in /usr/local/lib/python3.10/dist-packages (from requests>=2.19.0->pooch>=1.5->mne) (2.0.7)\n",
            "Requirement already satisfied: certifi>=2017.4.17 in /usr/local/lib/python3.10/dist-packages (from requests>=2.19.0->pooch>=1.5->mne) (2024.2.2)\n",
            "Installing collected packages: mne\n",
            "Successfully installed mne-1.6.1\n"
          ]
        }
      ]
    },
    {
      "cell_type": "code",
      "source": [
        "os.listdir()"
      ],
      "metadata": {
        "colab": {
          "base_uri": "https://localhost:8080/"
        },
        "id": "ZXiganoChzp8",
        "outputId": "fe2786a5-4365-43f0-862e-f3b8ce56cad3"
      },
      "execution_count": 4,
      "outputs": [
        {
          "output_type": "execute_result",
          "data": {
            "text/plain": [
              "['.config', 'drive', 'sample_data']"
            ]
          },
          "metadata": {},
          "execution_count": 4
        }
      ]
    },
    {
      "cell_type": "code",
      "source": [
        "!git clone --branch project1 https://github.com/pjuvm/BCI-lab-1.git"
      ],
      "metadata": {
        "colab": {
          "base_uri": "https://localhost:8080/"
        },
        "id": "BpufxwdfP5bQ",
        "outputId": "e72a560a-0b8c-4666-ba1c-d26a42769268"
      },
      "execution_count": 5,
      "outputs": [
        {
          "output_type": "stream",
          "name": "stdout",
          "text": [
            "Cloning into 'BCI-lab-1'...\n",
            "remote: Enumerating objects: 80, done.\u001b[K\n",
            "remote: Counting objects: 100% (50/50), done.\u001b[K\n",
            "remote: Compressing objects: 100% (40/40), done.\u001b[K\n",
            "remote: Total 80 (delta 22), reused 27 (delta 6), pack-reused 30\u001b[K\n",
            "Receiving objects: 100% (80/80), 107.87 MiB | 27.91 MiB/s, done.\n",
            "Resolving deltas: 100% (23/23), done.\n"
          ]
        }
      ]
    },
    {
      "cell_type": "code",
      "source": [
        "os.chdir(\"BCI-lab-1\")"
      ],
      "metadata": {
        "id": "UU5c6dULzTQ-"
      },
      "execution_count": 6,
      "outputs": []
    },
    {
      "cell_type": "code",
      "source": [
        "from loadmat import *\n",
        "from load_p300_data import *\n",
        "from plot_p300_erps import *\n"
      ],
      "metadata": {
        "id": "x6xiZTcuBmFh"
      },
      "execution_count": 7,
      "outputs": []
    },
    {
      "cell_type": "markdown",
      "source": [
        "#Parts C,D, and E"
      ],
      "metadata": {
        "id": "BmBFj2f9Rdgj"
      }
    },
    {
      "cell_type": "code",
      "source": [
        "def subject_epoch_groups(subject):\n",
        "  eeg_time, eeg_data, rowcol_id, is_target = load_training_eeg(subject = subject)\n",
        "  event_sample, is_target_event = get_events(rowcol_id, is_target)\n",
        "  eeg_epochs, erp_times = epoch_data(eeg_time, eeg_data, event_sample, epoch_start_time = -0.5, epoch_end_time = 1)\n",
        "  target_epochs = eeg_epochs[is_target_event]\n",
        "  nontarget_epochs = eeg_epochs[~is_target_event]\n",
        "  return target_epochs.astype(float), nontarget_epochs.astype(float)\n",
        "\n",
        "def erp_difference(EEG1,EEG2):\n",
        "  \"\"\" this functions finds the absolute value of the difference between the ERPs of two EEG groups\n",
        "  Args:\n",
        "    EEG1: 3d array of (trials, time points, channels)\n",
        "    EEG2: same as above\n",
        "  Returns:\n",
        "    Absolute value of difference between ERP (mean EEG) of two groups\n",
        "  \"\"\"\n",
        "  target_ERP = EEG1[:,:,:].mean(0)\n",
        "  nontarget_ERP = EEG2[:,:,:].mean(0)\n",
        "  return np.abs(target_ERP - nontarget_ERP)"
      ],
      "metadata": {
        "id": "mge9ajHOKd97"
      },
      "execution_count": 8,
      "outputs": []
    },
    {
      "cell_type": "code",
      "source": [
        "def p_value_gen(EEG1, EEG2, n_iter = 500, channel = 0, alpha = 0.05, random_seed=888):\n",
        "  \"\"\" Function that generates a array of p-values of size (time points, channels)\n",
        "  relating real data to bootstrapped data; viz probabilities of real data given the bootstrapped sample data\n",
        "  Args:\n",
        "    EEG1 -- array of shape (samples, time, channels)\n",
        "    EEG2 -- as above\n",
        "    n_iter -- number of bootstrap iterations\n",
        "    channel -- int. The channel to generate p-values for\n",
        "  Returns:\n",
        "    p-values: array that has bootstrapped p-values for each slice. These are not corrected for multiple trials.\n",
        "    significance list: an array that indexes where significant p-values occur during the epoch.\n",
        "  \"\"\"\n",
        "  np.random.seed(random_seed)\n",
        "  combined_epochs = np.vstack([EEG1,EEG2])\n",
        "  real_erp_diff = erp_difference(EEG1,EEG2)  #the real ERP difference between two groups or conditions\n",
        "  score = np.zeros(EEG1.shape[1],)                      #zero matrix to count significance\n",
        "  for _ in range(n_iter):\n",
        "    inds = np.random.randint(0,len(combined_epochs),len(combined_epochs))\n",
        "    bootstrapped_epochs = combined_epochs[inds]\n",
        "    bootstrap_target = bootstrapped_epochs[:EEG1.shape[0]] #use same number of trials eg 150 as data\n",
        "    bootstrap_nontarget = bootstrapped_epochs[EEG2.shape[0]:] #use same number of trials eg 750 as data\n",
        "    #bootstrapped nontarget ERP, mean of the 750 samples\n",
        "    bootstrap_erp_diff_array = erp_difference(bootstrap_target,bootstrap_nontarget) #absolute difference of the two as statistic\n",
        "    #print(bootstrap_erp_diff_array.shape)\n",
        "\n",
        "    x = (bootstrap_erp_diff_array[:,channel] > real_erp_diff[:,channel]).astype(int) #whenever a bootstrap value is larger than the real data add 1\n",
        "    score += x\n",
        "\n",
        "  return score/n_iter, np.where(score/n_iter < alpha) #calculate percentage of bootstrap samples bigger than the real data"
      ],
      "metadata": {
        "id": "Tsc8WoSQobHK"
      },
      "execution_count": 12,
      "outputs": []
    },
    {
      "cell_type": "code",
      "source": [
        "def find_significant_times(channel, subjects, samples_per_epoch=384, n_iter=500, random_seed=888):\n",
        "  np.random.seed(random_seed)\n",
        "  score = np.zeros(samples_per_epoch,)\n",
        "  for subj in subjects:\n",
        "    EEGa,EEGb = subject_epoch_groups(subj)  #split data into two conditions or groups of EEG\n",
        "    my_raw_pvals = p_value_gen(EEG1 = EEGa, EEG2 = EEGb, n_iter = 500, channel = channel, alpha = 0.05)   #get the uncorrected p-values\n",
        "    mask = fdr_correction(my_raw_pvals[0])[0]   #false discovery rate correction for the p-values\n",
        "    mask = mask.astype(int)     #takes boolean mask converts to binary matrix of 1s and 0s\n",
        "    score += mask               #adds the above matrix to the score matrix, to tally significant time points across subjects\n",
        "  my_mask = np.where(score != 0)\n",
        "  #erp_times = np.linspace(-0.5,1.0,384)\n",
        "\n",
        "  return score"
      ],
      "metadata": {
        "id": "zbtR52KaCvgR"
      },
      "execution_count": 26,
      "outputs": []
    },
    {
      "cell_type": "code",
      "source": [
        "A = find_significant_times(channel = 6, subjects = [3,4,5,6,7,8,9,10], n_iter = 3000)"
      ],
      "metadata": {
        "id": "GQXURlnIseDk"
      },
      "execution_count": 28,
      "outputs": []
    },
    {
      "cell_type": "code",
      "source": [
        "A"
      ],
      "metadata": {
        "colab": {
          "base_uri": "https://localhost:8080/"
        },
        "id": "QLCtr2vHV5Cl",
        "outputId": "a623c127-65e5-41ed-dfae-bcb72d947cde"
      },
      "execution_count": 29,
      "outputs": [
        {
          "output_type": "execute_result",
          "data": {
            "text/plain": [
              "array([0., 0., 0., 0., 0., 0., 0., 0., 0., 0., 0., 0., 0., 0., 0., 0., 0.,\n",
              "       0., 0., 0., 0., 0., 0., 0., 0., 0., 0., 0., 0., 0., 0., 0., 0., 0.,\n",
              "       0., 0., 0., 0., 0., 0., 0., 0., 0., 0., 0., 0., 0., 0., 0., 0., 0.,\n",
              "       0., 0., 0., 0., 0., 0., 0., 0., 0., 0., 0., 0., 0., 0., 0., 0., 0.,\n",
              "       0., 0., 0., 0., 0., 0., 0., 0., 0., 0., 0., 0., 0., 0., 0., 0., 0.,\n",
              "       0., 0., 0., 0., 0., 0., 0., 0., 0., 0., 0., 0., 0., 0., 0., 0., 0.,\n",
              "       0., 0., 0., 0., 0., 0., 0., 0., 0., 0., 0., 0., 0., 0., 0., 0., 0.,\n",
              "       0., 0., 0., 0., 0., 0., 0., 0., 0., 0., 0., 0., 0., 0., 0., 0., 0.,\n",
              "       0., 0., 0., 0., 0., 0., 0., 0., 0., 0., 0., 0., 0., 0., 0., 0., 0.,\n",
              "       0., 0., 0., 0., 0., 1., 1., 0., 0., 1., 0., 0., 0., 0., 0., 0., 0.,\n",
              "       0., 0., 0., 0., 0., 0., 0., 0., 0., 0., 0., 0., 0., 0., 0., 0., 0.,\n",
              "       0., 0., 0., 0., 0., 0., 0., 0., 0., 0., 0., 0., 0., 0., 0., 1., 1.,\n",
              "       1., 1., 1., 2., 2., 1., 1., 0., 0., 0., 0., 0., 0., 0., 0., 0., 0.,\n",
              "       0., 0., 0., 0., 0., 0., 0., 0., 0., 0., 0., 0., 0., 1., 1., 1., 1.,\n",
              "       1., 1., 1., 1., 1., 1., 1., 0., 0., 0., 0., 0., 0., 0., 0., 1., 1.,\n",
              "       0., 0., 0., 0., 0., 0., 0., 0., 0., 0., 0., 0., 0., 0., 0., 0., 0.,\n",
              "       0., 0., 1., 1., 1., 1., 1., 1., 0., 0., 0., 0., 0., 0., 0., 0., 0.,\n",
              "       0., 0., 0., 0., 0., 0., 0., 0., 0., 0., 0., 0., 0., 0., 0., 0., 0.,\n",
              "       0., 0., 0., 0., 0., 0., 0., 0., 0., 0., 0., 0., 0., 0., 0., 0., 0.,\n",
              "       0., 0., 0., 0., 0., 0., 0., 0., 0., 0., 0., 0., 0., 0., 0., 0., 0.,\n",
              "       0., 0., 0., 0., 0., 0., 0., 0., 0., 0., 0., 0., 0., 0., 0., 0., 0.,\n",
              "       0., 0., 0., 0., 0., 0., 0., 0., 0., 0., 0., 0., 0., 0., 0., 0., 0.,\n",
              "       0., 0., 0., 0., 0., 0., 0., 0., 0., 0.])"
            ]
          },
          "metadata": {},
          "execution_count": 29
        }
      ]
    },
    {
      "cell_type": "code",
      "source": [
        "plt.plot(np.linspace(-0.5,1,384), A)"
      ],
      "metadata": {
        "colab": {
          "base_uri": "https://localhost:8080/",
          "height": 447
        },
        "id": "5a_wvFCZNWya",
        "outputId": "16f698ee-3ebb-43f9-d624-e361b8d23bb4"
      },
      "execution_count": 31,
      "outputs": [
        {
          "output_type": "execute_result",
          "data": {
            "text/plain": [
              "[<matplotlib.lines.Line2D at 0x79889aca86d0>]"
            ]
          },
          "metadata": {},
          "execution_count": 31
        },
        {
          "output_type": "display_data",
          "data": {
            "text/plain": [
              "<Figure size 640x480 with 1 Axes>"
            ],
            "image/png": "[encoded data removed]"
          },
          "metadata": {}
        }
      ]
    },
    {
      "cell_type": "markdown",
      "source": [
        "#Part F"
      ],
      "metadata": {
        "id": "XK16q5GIRUGS"
      }
    },
    {
      "cell_type": "code",
      "source": [
        "subjects = [3,4,5]\n",
        "subject_median_ERPs = []\n",
        "for subj in subjects:\n",
        "  eeg_time, eeg_data, rowcol_id, is_target = load_training_eeg(subject = subj)\n",
        "\n",
        "  event_sample, is_target_event = get_events(rowcol_id, is_target)\n",
        "  eeg_epochs, erp_times = epoch_data(eeg_time, eeg_data, event_sample, epoch_start_time = -0.5, epoch_end_time = 1)\n",
        "  subj_median = np.median(eeg_epochs, 0)\n",
        "  subject_median_ERPs.append(subj_median)"
      ],
      "metadata": {
        "id": "Pqlt1WwvRlqL"
      },
      "execution_count": 53,
      "outputs": []
    },
    {
      "cell_type": "code",
      "source": [
        "stacked_median_erps = np.stack(subject_median_ERPs)\n",
        "print(stacked_median_erps.shape)\n",
        "group_median_erp = np.median(stacked_median_erps, axis = 0)\n",
        "print(group_median_erp.shape)"
      ],
      "metadata": {
        "colab": {
          "base_uri": "https://localhost:8080/"
        },
        "id": "7Ri7Lbz_SLwm",
        "outputId": "467d5abf-eef2-4e83-d7a0-d4feb004000d"
      },
      "execution_count": 66,
      "outputs": [
        {
          "output_type": "stream",
          "name": "stdout",
          "text": [
            "(3, 384, 8)\n",
            "(384, 8)\n"
          ]
        }
      ]
    },
    {
      "cell_type": "code",
      "source": [
        "#N2 -- 175-250ms after onset of stimulus\n",
        "#P3b -- 300ms after onset of stimulus"
      ],
      "metadata": {
        "id": "kDAEdvI2Xqi6"
      },
      "execution_count": null,
      "outputs": []
    },
    {
      "cell_type": "code",
      "source": [
        "#If we use static times, e.g. time = 200 and time = 300\n",
        "\n",
        "N2_voltage = group_median_erp[200,:]\n",
        "P3b_voltage = group_median_erp[300,:]\n",
        "\n"
      ],
      "metadata": {
        "colab": {
          "base_uri": "https://localhost:8080/"
        },
        "id": "8-EzIow_X9e8",
        "outputId": "365b1941-54f1-48fd-849d-664a9a9fe455"
      },
      "execution_count": 67,
      "outputs": [
        {
          "output_type": "execute_result",
          "data": {
            "text/plain": [
              "(8,)"
            ]
          },
          "metadata": {},
          "execution_count": 67
        }
      ]
    },
    {
      "cell_type": "code",
      "source": [
        "import plot_topo"
      ],
      "metadata": {
        "id": "gqS4liAzVTT9"
      },
      "execution_count": 64,
      "outputs": []
    }
  ]
}